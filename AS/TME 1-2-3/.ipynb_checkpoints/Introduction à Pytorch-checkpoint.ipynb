{
 "cells": [
  {
   "cell_type": "code",
   "execution_count": 37,
   "metadata": {},
   "outputs": [],
   "source": [
    "import torch as t\n",
    "import numpy as np"
   ]
  },
  {
   "cell_type": "raw",
   "metadata": {},
   "source": [
    "Pytorch (Framework de Deep Learning de FB) se base sur un objet usuel qui s’appelle un tenseur (généralisation de plusieurs dimensions d’une matrice)\n",
    "Matrice est un tenseur de dimension 2\n",
    "Vecteur est un tenseur de dimension 1\n",
    "Pytorch permet de manipuler/créer différent type de tenseur \n"
   ]
  },
  {
   "cell_type": "code",
   "execution_count": 22,
   "metadata": {},
   "outputs": [
    {
     "name": "stdout",
     "output_type": "stream",
     "text": [
      "tensor([[ 0.0000e+00,  0.0000e+00,  0.0000e+00],\n",
      "        [ 0.0000e+00,  0.0000e+00,  0.0000e+00],\n",
      "        [ 0.0000e+00,  0.0000e+00,  0.0000e+00],\n",
      "        [ 0.0000e+00,  2.0067e-42,  0.0000e+00],\n",
      "        [ 0.0000e+00,  6.5608e+05,  0.0000e+00]])\n"
     ]
    }
   ],
   "source": [
    "m = t.Tensor(5,3)\n",
    "print(m)\n",
    "x = t.Tensor(5,3)"
   ]
  },
  {
   "cell_type": "code",
   "execution_count": 13,
   "metadata": {},
   "outputs": [
    {
     "name": "stdout",
     "output_type": "stream",
     "text": [
      "type m : <class 'torch.Tensor'> \n",
      "size m : torch.Size([5, 3]) \n",
      "dimension m :  2\n"
     ]
    }
   ],
   "source": [
    "print(\"type m : {} \".format(type(m)))\n",
    "print(\"size m : {} \".format(m.size()))\n",
    "print(\"dimension m :  {}\".format(m.dim()))"
   ]
  },
  {
   "cell_type": "code",
   "execution_count": 20,
   "metadata": {},
   "outputs": [
    {
     "name": "stdout",
     "output_type": "stream",
     "text": [
      "tensor(1.00000e-16 *\n",
      "       [-8.8117,  0.0000,  0.0000])\n"
     ]
    }
   ],
   "source": [
    "#vecteur\n",
    "print(t.Tensor(3))"
   ]
  },
  {
   "cell_type": "code",
   "execution_count": 19,
   "metadata": {},
   "outputs": [
    {
     "name": "stdout",
     "output_type": "stream",
     "text": [
      "tensor([ 0.1561,  0.8641])\n",
      "tensor([ 2.0564,  1.1916])\n"
     ]
    }
   ],
   "source": [
    "#valeur aléatoire par tensor\n",
    "print(t.rand(2))\n",
    "#valeur aléatoire tiré selon une loi normal\n",
    "print(t.randn(2))"
   ]
  },
  {
   "cell_type": "code",
   "execution_count": 31,
   "metadata": {},
   "outputs": [
    {
     "name": "stdout",
     "output_type": "stream",
     "text": [
      "tensor([])\n",
      "tensor([[ 0.0000e+00,  0.0000e+00,  0.0000e+00],\n",
      "        [ 0.0000e+00,  0.0000e+00,  0.0000e+00],\n",
      "        [ 0.0000e+00,  0.0000e+00,  0.0000e+00],\n",
      "        [ 0.0000e+00,  8.5311e-42,  0.0000e+00],\n",
      "        [ 0.0000e+00,  6.5608e+05,  0.0000e+00]])\n"
     ]
    }
   ],
   "source": [
    "#application \n",
    "        #addition\n",
    "y= t.Tensor()\n",
    "print(y)\n",
    "t.add(m, x, out=y) # out = optionnel \n",
    "print(y)"
   ]
  },
  {
   "cell_type": "code",
   "execution_count": 32,
   "metadata": {},
   "outputs": [
    {
     "name": "stdout",
     "output_type": "stream",
     "text": [
      "m  tensor([[ 0.0000e+00,  0.0000e+00,  0.0000e+00],\n",
      "        [ 0.0000e+00,  0.0000e+00,  0.0000e+00],\n",
      "        [ 0.0000e+00,  0.0000e+00,  0.0000e+00],\n",
      "        [ 0.0000e+00,  6.9000e-42,  0.0000e+00],\n",
      "        [ 0.0000e+00,  6.5608e+05,  0.0000e+00]])\n",
      "x  tensor(1.00000e-08 *\n",
      "       [[ 0.0000,  0.0000,  0.0000],\n",
      "        [ 0.0000,  0.0000,  0.0000],\n",
      "        [ 0.0000,  0.0000,  0.0000],\n",
      "        [ 0.0000,  0.0000,  0.0000],\n",
      "        [ 0.0000,  4.3116,  0.0000]])\n",
      "m  tensor([[ 0.0000e+00,  0.0000e+00,  0.0000e+00],\n",
      "        [ 0.0000e+00,  0.0000e+00,  0.0000e+00],\n",
      "        [ 0.0000e+00,  0.0000e+00,  0.0000e+00],\n",
      "        [ 0.0000e+00,  8.5311e-42,  0.0000e+00],\n",
      "        [ 0.0000e+00,  6.5608e+05,  0.0000e+00]])\n",
      "x  tensor(1.00000e-08 *\n",
      "       [[ 0.0000,  0.0000,  0.0000],\n",
      "        [ 0.0000,  0.0000,  0.0000],\n",
      "        [ 0.0000,  0.0000,  0.0000],\n",
      "        [ 0.0000,  0.0000,  0.0000],\n",
      "        [ 0.0000,  4.3116,  0.0000]])\n"
     ]
    }
   ],
   "source": [
    "        #ajouter un tensor dans un autre\n",
    "print(\"m \",m);print(\"x \",x)\n",
    "m.add_(x)\n",
    "print(\"m \",m);print(\"x \",x)"
   ]
  },
  {
   "cell_type": "code",
   "execution_count": 35,
   "metadata": {},
   "outputs": [
    {
     "data": {
      "text/plain": [
       "tensor([ 0.0000e+00,  0.0000e+00,  0.0000e+00,  0.0000e+00,  0.0000e+00,\n",
       "         0.0000e+00,  0.0000e+00,  0.0000e+00,  0.0000e+00,  0.0000e+00,\n",
       "         8.5311e-42,  0.0000e+00,  0.0000e+00,  6.5608e+05,  0.0000e+00])"
      ]
     },
     "execution_count": 35,
     "metadata": {},
     "output_type": "execute_result"
    }
   ],
   "source": [
    "#modifier la dimention \n",
    "m.view(15)"
   ]
  },
  {
   "cell_type": "code",
   "execution_count": 39,
   "metadata": {},
   "outputs": [
    {
     "name": "stdout",
     "output_type": "stream",
     "text": [
      "tensor([[ 0.4648,  0.1371],\n",
      "        [ 0.1019,  0.4330],\n",
      "        [ 0.2922,  0.0012],\n",
      "        [ 0.0232,  0.9562],\n",
      "        [ 0.7634,  0.2721]], dtype=torch.float64)\n"
     ]
    }
   ],
   "source": [
    "z = t.from_numpy(np.random.rand(5,2))\n",
    "print(z)"
   ]
  },
  {
   "cell_type": "code",
   "execution_count": 41,
   "metadata": {},
   "outputs": [
    {
     "data": {
      "text/plain": [
       "tensor([[ 0.0000e+00,  0.0000e+00,  0.0000e+00],\n",
       "        [ 0.0000e+00,  0.0000e+00,  0.0000e+00],\n",
       "        [ 0.0000e+00,  0.0000e+00,  0.0000e+00],\n",
       "        [ 0.0000e+00,  8.5311e-42,  0.0000e+00],\n",
       "        [ 0.0000e+00,  6.5608e+05,  0.0000e+00],\n",
       "        [ 0.0000e+00,  0.0000e+00,  0.0000e+00],\n",
       "        [ 0.0000e+00,  0.0000e+00,  0.0000e+00],\n",
       "        [ 0.0000e+00,  0.0000e+00,  0.0000e+00],\n",
       "        [ 0.0000e+00,  1.6311e-42,  0.0000e+00],\n",
       "        [ 0.0000e+00,  4.3116e-08,  0.0000e+00]])"
      ]
     },
     "execution_count": 41,
     "metadata": {},
     "output_type": "execute_result"
    }
   ],
   "source": [
    "#concatenant deux tensors sur la dim 0 / ajouter ligne\n",
    "t.cat((m, x), dim=0)"
   ]
  },
  {
   "cell_type": "code",
   "execution_count": 42,
   "metadata": {},
   "outputs": [
    {
     "data": {
      "text/plain": [
       "tensor([[ 0.0000e+00,  0.0000e+00,  0.0000e+00,  0.0000e+00,  0.0000e+00,\n",
       "          0.0000e+00],\n",
       "        [ 0.0000e+00,  0.0000e+00,  0.0000e+00,  0.0000e+00,  0.0000e+00,\n",
       "          0.0000e+00],\n",
       "        [ 0.0000e+00,  0.0000e+00,  0.0000e+00,  0.0000e+00,  0.0000e+00,\n",
       "          0.0000e+00],\n",
       "        [ 0.0000e+00,  8.5311e-42,  0.0000e+00,  0.0000e+00,  1.6311e-42,\n",
       "          0.0000e+00],\n",
       "        [ 0.0000e+00,  6.5608e+05,  0.0000e+00,  0.0000e+00,  4.3116e-08,\n",
       "          0.0000e+00]])"
      ]
     },
     "execution_count": 42,
     "metadata": {},
     "output_type": "execute_result"
    }
   ],
   "source": [
    "#concatenant deux tensors sur la dim 1 / ajouter colonne\n",
    "t.cat((m, x), dim=1)"
   ]
  },
  {
   "cell_type": "code",
   "execution_count": 44,
   "metadata": {},
   "outputs": [
    {
     "name": "stdout",
     "output_type": "stream",
     "text": [
      "(tensor([[ 0.,  0.,  0.],\n",
      "        [ 0.,  0.,  0.]]), tensor(1.00000e-42 *\n",
      "       [[ 0.0000,  0.0000,  0.0000],\n",
      "        [ 0.0000,  8.5311,  0.0000]]), tensor([[ 0.0000e+00,  6.5608e+05,  0.0000e+00]]))\n"
     ]
    }
   ],
   "source": [
    "# séparé le tensor en morceau #aussi split \n",
    "print(t.chunk(m, 3))"
   ]
  },
  {
   "cell_type": "code",
   "execution_count": 47,
   "metadata": {},
   "outputs": [
    {
     "data": {
      "text/plain": [
       "tensor([[ 0,  0,  0],\n",
       "        [ 0,  0,  0],\n",
       "        [ 0,  0,  0],\n",
       "        [ 0,  0,  0],\n",
       "        [ 0,  1,  0]], dtype=torch.uint8)"
      ]
     },
     "execution_count": 47,
     "metadata": {},
     "output_type": "execute_result"
    }
   ],
   "source": [
    "#connaitre les cases > 0.1\n",
    "m.ge(0.1)"
   ]
  },
  {
   "cell_type": "code",
   "execution_count": 49,
   "metadata": {},
   "outputs": [
    {
     "data": {
      "text/plain": [
       "tensor(1.00000e+05 *\n",
       "       [ 6.5608])"
      ]
     },
     "execution_count": 49,
     "metadata": {},
     "output_type": "execute_result"
    }
   ],
   "source": [
    "#selectionner les elements >0.1\n",
    "t.masked_select(m, m.ge(0.1))"
   ]
  },
  {
   "cell_type": "code",
   "execution_count": 52,
   "metadata": {},
   "outputs": [
    {
     "data": {
      "text/plain": [
       "tensor([[ 1.0644,  0.7228,  0.6288,  0.6640,  0.6674],\n",
       "        [ 0.5826,  0.3669,  0.2651,  0.3925,  0.3954],\n",
       "        [ 0.4629,  0.6639,  0.8247,  0.6654,  0.7174],\n",
       "        [ 0.9490,  0.9972,  1.1447,  0.9226,  0.9724],\n",
       "        [ 1.1513,  0.8562,  0.8737,  0.6638,  0.6667]])"
      ]
     },
     "execution_count": 52,
     "metadata": {},
     "output_type": "execute_result"
    }
   ],
   "source": [
    "#mutliplication\n",
    "x =t.rand(5,3); y =t.rand(3,5)\n",
    "t.mm(x,y) #mv pour vecteur "
   ]
  },
  {
   "cell_type": "code",
   "execution_count": 164,
   "metadata": {},
   "outputs": [
    {
     "data": {
      "image/png": "[encoded data removed]",
      "text/plain": [
       "<Figure size 432x288 with 1 Axes>"
      ]
     },
     "metadata": {},
     "output_type": "display_data"
    }
   ],
   "source": [
    "#Descente de gradient sans RN\n",
    "import argparse\n",
    "import matplotlib.pyplot as plt\n",
    "import math\n",
    "import numpy as np\n",
    "from mpl_toolkits.mplot3d import axes3d, Axes3D\n",
    "from matplotlib import cm\n",
    "\n",
    "\n",
    "# Function\n",
    "def func(xv, yv):\n",
    "    \"\"\"\n",
    "    Function\n",
    "    :param xv: X\n",
    "    :param yv: Y\n",
    "    :return: Z\n",
    "    \"\"\"\n",
    "    return 0.5*math.pow(xv, 2) + xv + 0.25*math.pow(yv, 2) - 2\n",
    "# end func\n",
    "\n",
    "x = 1\n",
    "y = 1\n",
    "\n",
    "# List of positions\n",
    "x_values = list([x])\n",
    "y_values = list([y])\n",
    "z_values = list([func(x, y)])\n",
    "\n",
    "\n",
    "\n",
    "# Do 10 steps\n",
    "\n",
    "for i in range(10):\n",
    "    # Compute gradient\n",
    "    x_grad = x + 1\n",
    "    y_grad = 0.5 * y\n",
    "\n",
    "    # Update each parameters\n",
    "    x -= x_grad * 0.1\n",
    "    y -= y_grad * 0.1\n",
    "\n",
    "    # Print gradients and value\n",
    "    x_values.append(x)\n",
    "    y_values.append(y)\n",
    "    z_values.append(func(x, y))\n",
    "# end for\n",
    "\n",
    "# Plot\n",
    "fig = plt.figure()\n",
    "ax = fig.add_subplot(111, projection='3d')\n",
    "# X position\n",
    "X = np.zeros((51, 51))\n",
    "X[:, ] = np.arange(-2.5, 2.6, 0.1)\n",
    "# Y position\n",
    "Y = np.zeros((51, 51))\n",
    "for i in range(51):\n",
    "    Y[i, :] = X[0, i]\n",
    "# end for\n",
    "# Compute Z\n",
    "Z = np.zeros((51, 51))\n",
    "for j in range(51):\n",
    "    for i in range(51):\n",
    "        x_pos = X[j, i]\n",
    "        y_pos = Y[j, i]\n",
    "        Z[j, i] = func(x_pos,y_pos)\n",
    "    # end for\n",
    "# end for\n",
    "\n",
    "# Labels\n",
    "ax.set_xlabel('X')\n",
    "ax.set_ylabel('Y')\n",
    "ax.set_zlabel('Z')\n",
    "\n",
    "# Plot a basic surface.\n",
    "ax.plot_surface(X, Y, Z, cmap=cm.hot, linewidth=0, antialiased=True, alpha=1.0)\n",
    "# Scatter points\n",
    "ax.plot(x_values, y_values, z_values, label='Learning curve', color='lightblue')\n",
    "# Show graph\n",
    "plt.show()"
   ]
  },
  {
   "cell_type": "code",
   "execution_count": 171,
   "metadata": {},
   "outputs": [],
   "source": [
    "#Imports\n",
    "import argparse\n",
    "import matplotlib.pyplot as plt\n",
    "import math\n",
    "import numpy as np\n",
    "from matplotlib import cm\n",
    "import torch\n",
    "from torch.autograd import Variable\n",
    "import torch.nn as nn #modèles \n",
    "import torch.optim as optim"
   ]
  },
  {
   "cell_type": "code",
   "execution_count": 167,
   "metadata": {},
   "outputs": [],
   "source": [
    "#pour avoir le meme resultat a chaque fois\n",
    "# Random seed\n",
    "torch.manual_seed(1)\n",
    "np.random.seed(1)"
   ]
  },
  {
   "cell_type": "code",
   "execution_count": 170,
   "metadata": {},
   "outputs": [
    {
     "data": {
      "image/png": "[encoded data removed]",
      "text/plain": [
       "<Figure size 432x288 with 1 Axes>"
      ]
     },
     "metadata": {},
     "output_type": "display_data"
    }
   ],
   "source": [
    "# True parameter values\n",
    "a = 4\n",
    "c = 2\n",
    "# Noise parameter\n",
    "v = 8\n",
    "\n",
    "# Number of samples\n",
    "n_samples = 50\n",
    "\n",
    "# Generate samples\n",
    "X = np.zeros(n_samples)\n",
    "Y = np.zeros(n_samples)\n",
    "\n",
    "for i in range(n_samples):\n",
    "    x = np.random.rand()*10.0\n",
    "    y = a*x + c + v*(2*np.random.rand()-1.0)\n",
    "    X[i] = x\n",
    "    Y[i] = y\n",
    "# end for\n",
    "\n",
    "plt.plot([0, 10], [2, 42], c='r')\n",
    "plt.scatter(X, Y, c='b')\n",
    "plt.show()"
   ]
  },
  {
   "cell_type": "code",
   "execution_count": 177,
   "metadata": {},
   "outputs": [],
   "source": [
    "# Linear layer, 1 entrée, 1 sortie \n",
    "linear = nn.Linear(1, 1, bias=True)\n",
    "#objectif fonction \n",
    "criterion = nn.MSELoss()\n",
    "#optimize, optim contient les outiels d optimisation (DG)\n",
    "learning_parameters = .01\n",
    "#parameters() de Linear que SGD va optimiser avec un taux d'app lr\n",
    "optimizer = optim.SGD(linear.parameters(), lr = learning_parameters)"
   ]
  },
  {
   "cell_type": "code",
   "execution_count": 183,
   "metadata": {},
   "outputs": [
    {
     "name": "stdout",
     "output_type": "stream",
     "text": [
      "Loss 0 : 18.97239875793457\n",
      "Loss 10 : 18.97237205505371\n",
      "Loss 20 : 18.972352981567383\n",
      "Loss 30 : 18.972326278686523\n",
      "Loss 40 : 18.97231101989746\n",
      "Loss 50 : 18.9722900390625\n",
      "Loss 60 : 18.972274780273438\n",
      "Loss 70 : 18.972259521484375\n",
      "Loss 80 : 18.97224998474121\n",
      "Loss 90 : 18.972240447998047\n",
      "Loss 100 : 18.97222900390625\n",
      "Loss 110 : 18.972217559814453\n",
      "Loss 120 : 18.972209930419922\n",
      "Loss 130 : 18.972200393676758\n",
      "Loss 140 : 18.972190856933594\n",
      "Loss 150 : 18.972183227539062\n",
      "Loss 160 : 18.972171783447266\n",
      "Loss 170 : 18.9721736907959\n",
      "Loss 180 : 18.9721622467041\n",
      "Loss 190 : 18.97216033935547\n",
      "Loss 200 : 18.972156524658203\n",
      "Loss 210 : 18.972152709960938\n",
      "Loss 220 : 18.972143173217773\n",
      "Loss 230 : 18.972143173217773\n",
      "Loss 240 : 18.972139358520508\n",
      "Loss 250 : 18.97213363647461\n",
      "Loss 260 : 18.972135543823242\n",
      "Loss 270 : 18.972126007080078\n",
      "Loss 280 : 18.972126007080078\n",
      "Loss 290 : 18.972129821777344\n",
      "Loss 300 : 18.972122192382812\n",
      "Loss 310 : 18.97212028503418\n",
      "Loss 320 : 18.972118377685547\n",
      "Loss 330 : 18.972122192382812\n",
      "Loss 340 : 18.972122192382812\n",
      "Loss 350 : 18.972118377685547\n",
      "Loss 360 : 18.97211456298828\n",
      "Loss 370 : 18.97211456298828\n",
      "Loss 380 : 18.972108840942383\n",
      "Loss 390 : 18.97211265563965\n",
      "Loss 400 : 18.972108840942383\n",
      "Loss 410 : 18.97211456298828\n",
      "Loss 420 : 18.972110748291016\n",
      "Loss 430 : 18.97211265563965\n",
      "Loss 440 : 18.972110748291016\n",
      "Loss 450 : 18.97210693359375\n",
      "Loss 460 : 18.972103118896484\n",
      "Loss 470 : 18.972105026245117\n",
      "Loss 480 : 18.972108840942383\n",
      "Loss 490 : 18.972105026245117\n",
      "Loss 500 : 18.972105026245117\n",
      "Loss 510 : 18.972108840942383\n",
      "Loss 520 : 18.97210693359375\n",
      "Loss 530 : 18.972105026245117\n",
      "Loss 540 : 18.972105026245117\n",
      "Loss 550 : 18.972105026245117\n",
      "Loss 560 : 18.972105026245117\n",
      "Loss 570 : 18.972105026245117\n",
      "Loss 580 : 18.972103118896484\n",
      "Loss 590 : 18.972105026245117\n"
     ]
    },
    {
     "name": "stderr",
     "output_type": "stream",
     "text": [
      "C:\\Users\\kherf\\Anaconda3\\lib\\site-packages\\ipykernel_launcher.py:20: UserWarning: invalid index of a 0-dim tensor. This will be an error in PyTorch 0.5. Use tensor.item() to convert a 0-dim tensor to a Python number\n"
     ]
    }
   ],
   "source": [
    "# Loop over the data set\n",
    "for epoch in range(600):\n",
    "    # Inputs and outputs (n_samples * in_features)\n",
    "    #dimension 1 il le faut \n",
    "    inputs, outputs = torch.Tensor(X).unsqueeze(1), torch.Tensor(Y).unsqueeze(1)\n",
    "\n",
    "    # To variable\n",
    "    inputs, outputs = Variable(inputs), Variable(outputs)\n",
    "\n",
    "    # Zero param gradients\n",
    "    optimizer.zero_grad()\n",
    "\n",
    "    # Forward + Backward + optimize\n",
    "    linear_outputs = linear(inputs)\n",
    "    loss = criterion(linear_outputs, outputs)\n",
    "    loss.backward()\n",
    "    optimizer.step()\n",
    "    # Print result\n",
    "    if epoch % 10 == 0:\n",
    "        print(u\"Loss {} : {}\".format(epoch, loss.data[0]))\n",
    "    # end if\n",
    "# end for\n",
    "\n"
   ]
  },
  {
   "cell_type": "code",
   "execution_count": 184,
   "metadata": {},
   "outputs": [
    {
     "name": "stdout",
     "output_type": "stream",
     "text": [
      "Found a : 3.901865243911743\n",
      "Found c : 4.084768295288086\n"
     ]
    },
    {
     "data": {
      "image/png": "[encoded data removed]",
      "text/plain": [
       "<Figure size 432x288 with 1 Axes>"
      ]
     },
     "metadata": {},
     "output_type": "display_data"
    }
   ],
   "source": [
    "# Get and print parameter\n",
    "model_a = float(list(linear.parameters())[0])\n",
    "model_c = float(linear.bias)\n",
    "print(u\"Found a : {}\".format(model_a))\n",
    "print(u\"Found c : {}\".format(model_c))\n",
    "\n",
    "# Show points and line\n",
    "plt.scatter(X, Y, c='r', marker='o', s=1)\n",
    "plt.plot([0, 10], [c, a * 10 + c], c='b')\n",
    "plt.plot([0, 10], [model_c, model_a * 10 + model_c], c='g')\n",
    "plt.show()"
   ]
  },
  {
   "cell_type": "code",
   "execution_count": 185,
   "metadata": {},
   "outputs": [
    {
     "ename": "ModuleNotFoundError",
     "evalue": "No module named 'modules'",
     "output_type": "error",
     "traceback": [
      "\u001b[1;31m---------------------------------------------------------------------------\u001b[0m",
      "\u001b[1;31mModuleNotFoundError\u001b[0m                       Traceback (most recent call last)",
      "\u001b[1;32m<ipython-input-185-29aa4ef47c19>\u001b[0m in \u001b[0;36m<module>\u001b[1;34m()\u001b[0m\n\u001b[0;32m      3\u001b[0m \u001b[1;32mimport\u001b[0m \u001b[0mtorchvision\u001b[0m\u001b[1;33m.\u001b[0m\u001b[0mtransforms\u001b[0m \u001b[1;32mas\u001b[0m \u001b[0mtransforms\u001b[0m\u001b[1;33m\u001b[0m\u001b[0m\n\u001b[0;32m      4\u001b[0m \u001b[1;32mimport\u001b[0m \u001b[0mmatplotlib\u001b[0m\u001b[1;33m.\u001b[0m\u001b[0mpyplot\u001b[0m \u001b[1;32mas\u001b[0m \u001b[0mplt\u001b[0m\u001b[1;33m\u001b[0m\u001b[0m\n\u001b[1;32m----> 5\u001b[1;33m \u001b[1;32mfrom\u001b[0m \u001b[0mmodules\u001b[0m \u001b[1;32mimport\u001b[0m \u001b[0mNet\u001b[0m\u001b[1;33m\u001b[0m\u001b[0m\n\u001b[0m\u001b[0;32m      6\u001b[0m \u001b[1;32mimport\u001b[0m \u001b[0mnumpy\u001b[0m \u001b[1;32mas\u001b[0m \u001b[0mnp\u001b[0m\u001b[1;33m\u001b[0m\u001b[0m\n\u001b[0;32m      7\u001b[0m \u001b[1;32mimport\u001b[0m \u001b[0mtorch\u001b[0m\u001b[1;33m.\u001b[0m\u001b[0mnn\u001b[0m \u001b[1;32mas\u001b[0m \u001b[0mnn\u001b[0m\u001b[1;33m\u001b[0m\u001b[0m\n",
      "\u001b[1;31mModuleNotFoundError\u001b[0m: No module named 'modules'"
     ]
    }
   ],
   "source": [
    "import torch\n",
    "import torchvision\n",
    "import torchvision.transforms as transforms\n",
    "import matplotlib.pyplot as plt\n",
    "from modules import Net\n",
    "import numpy as np\n",
    "import torch.nn as nn\n",
    "import torch.optim as optim\n",
    "from torch.autograd import Variable\n",
    "\n",
    "\n",
    "\n",
    "# Random seed\n",
    "torch.manual_seed(1)\n",
    "np.random.seed(1)\n",
    "\n",
    "\n",
    "\n",
    "# Batch size\n",
    "batch_size = 4\n",
    "\n",
    "\n",
    "\n",
    "# Transformation to tensor and normalization\n",
    "transform = transforms.Compose(\n",
    "    [\n",
    "        transforms.ToTensor(),#image to tensor\n",
    "        transforms.Normalize((0.5, 0.5, 0.5), (0.5, 0.5, 0.5))\n",
    "    ]\n",
    ")\n",
    "\n",
    "# Download the training set\n",
    "trainset = torchvision.datasets.FashionMNIST(root='./data', train=True, download=True, transform=transform)\n",
    "# Training set loader\n",
    "trainloader = torch.utils.data.DataLoader(trainset, batch_size=batch_size, shuffle=False)\n",
    "# Test set\n",
    "testset = torchvision.datasets.FashionMNIST(root='./data', train=False, download=True, transform=transform)\n",
    "# Test set loader\n",
    "testloader = torch.utils.data.DataLoader(testset, batch_size=batch_size, shuffle=False)\n",
    "\n",
    "\n"
   ]
  },
  {
   "cell_type": "code",
   "execution_count": null,
   "metadata": {},
   "outputs": [],
   "source": [
    "\n",
    "# Function to show images\n",
    "def imshow(img):\n",
    "    img = img / 2 + 0.5\n",
    "    npimg = img.numpy()\n",
    "    plt.imshow(np.transpose(npimg, (1, 2, 0)))\n",
    "    plt.show()\n",
    "# end imshow\n",
    "\n",
    "# Classes\n",
    "classes = ('T-shirt/top', 'Trouser', 'Pullover', 'Dress', 'Coat', 'Sandal', 'Shirt', 'Sneaker', 'Bag', 'Ankle boot')\n",
    "\n",
    "# Data set as iterator\n",
    "dataiter = iter(trainloader)\n",
    "#Get next batch\n",
    "images, labels = dataiter.next()\n",
    "# Show images\n",
    "\n",
    "n_batches = len(dataiter)\n",
    "# print(u\"First 4 labels {}\".format([classes[labels[j]] for j in range(4)]))\n",
    "# imshow(torchvision.utils.make_grid(images))\n"
   ]
  },
  {
   "cell_type": "code",
   "execution_count": null,
   "metadata": {},
   "outputs": [],
   "source": [
    "#!/usr/bin/env python\n",
    "\n",
    "# -*- coding: utf-8 -*-\n",
    "\n",
    "# Imports\n",
    "\n",
    "\n",
    "# Our neural net\n",
    "net = Net()\n",
    "net.cuda()\n",
    "\n",
    "# Objective function is cross-entropy\n",
    "criterion = nn.CrossEntropyLoss()\n",
    "# Learning rate\n",
    "learning_rate = 0.001\n",
    "# Stochastic gradient descent\n",
    "optimizer = optim.SGD(net.parameters(), lr=learning_rate, momentum=0.9)\n",
    "# Nb iterations\n",
    "n_iterations = 30\n",
    "# List of training and test accuracies\n",
    "train_accuracies = np.zeros(n_iterations)\n",
    "test_accuracies = np.zeros(n_iterations)\n",
    "\n",
    "# Training !\n",
    "for epoch in range(n_iterations):\n",
    "    # Average loss during training\n",
    "    average_loss = 0.0\n",
    "\n",
    "    # Data to compute accuracy\n",
    "\n",
    "    total = 0\n",
    "\n",
    "    success = 0\n",
    "\n",
    "\n",
    "\n",
    "    # Iterate over batches\n",
    "\n",
    "    for i, data in enumerate(trainloader, 0):\n",
    "\n",
    "        # Get the inputs and labels\n",
    "\n",
    "        inputs, labels = data\n",
    "\n",
    "        print(inputs.size())\n",
    "\n",
    "        print(labels)\n",
    "\n",
    "        # To variable\n",
    "\n",
    "        inputs, labels = Variable(inputs.cuda()), Variable(labels.cuda())\n",
    "\n",
    "\n",
    "\n",
    "        # Put grad to zero\n",
    "\n",
    "        optimizer.zero_grad()\n",
    "\n",
    "\n",
    "\n",
    "        # Forward\n",
    "\n",
    "        outputs = net(inputs)\n",
    "\n",
    "\n",
    "\n",
    "        # Loss\n",
    "\n",
    "        loss = criterion(outputs, labels)\n",
    "\n",
    "\n",
    "\n",
    "        # Backward\n",
    "\n",
    "        loss.backward()\n",
    "\n",
    "\n",
    "\n",
    "        # Optimize\n",
    "\n",
    "        optimizer.step()\n",
    "\n",
    "\n",
    "\n",
    "        # Add to loss\n",
    "\n",
    "        average_loss += loss.data[0]\n",
    "\n",
    "\n",
    "\n",
    "        # Take the max as predicted\n",
    "\n",
    "        _, predicted = torch.max(outputs.data, 1)\n",
    "\n",
    "\n",
    "\n",
    "        # Add to total\n",
    "\n",
    "        total += labels.size(0)\n",
    "\n",
    "\n",
    "\n",
    "        # Add correctly classified images\n",
    "\n",
    "        success += (predicted == labels.data).sum()\n",
    "\n",
    "    # end for\n",
    "\n",
    "    train_accuracy = 100.0 * success / total\n",
    "\n",
    "\n",
    "\n",
    "    # Test model on test set\n",
    "\n",
    "    success = 0\n",
    "\n",
    "    total = 0\n",
    "\n",
    "    for (inputs, labels) in testloader:\n",
    "\n",
    "        # To variable\n",
    "\n",
    "        inputs, labels = Variable(inputs.cuda()), Variable(labels.cuda())\n",
    "\n",
    "\n",
    "\n",
    "        # Neural net's outputs\n",
    "\n",
    "        outputs = net(inputs)\n",
    "\n",
    "\n",
    "\n",
    "        # Take the max as predicted\n",
    "\n",
    "        _, predicted = torch.max(outputs.data, 1)\n",
    "\n",
    "\n",
    "\n",
    "        # Add to total\n",
    "\n",
    "        total += labels.size(0)\n",
    "\n",
    "\n",
    "\n",
    "        # Add correctly classified images\n",
    "\n",
    "        success += (predicted == labels.data).sum()\n",
    "\n",
    "    # end for\n",
    "\n",
    "\n",
    "\n",
    "    # print average loss and accuracies\n",
    "\n",
    "    print(u\"Epoch {}, average loss {}, train accuracy {}, test accuracy {}\".format(\n",
    "\n",
    "        epoch,\n",
    "\n",
    "        average_loss / n_batches,\n",
    "\n",
    "        train_accuracy,\n",
    "\n",
    "        100.0 * success / total\n",
    "\n",
    "    ))\n",
    "\n",
    "\n",
    "\n",
    "    # Save\n",
    "\n",
    "    train_accuracies[epoch] = train_accuracy\n",
    "\n",
    "    test_accuracies[epoch] = 100.0 * success / total\n",
    "\n",
    "# end for\n",
    "\n",
    "\n",
    "\n",
    "plt.plot(np.arange(1, n_iterations+1), train_accuracies)\n",
    "\n",
    "plt.plot(np.arange(1, n_iterations+1), test_accuracies)\n",
    "\n",
    "plt.show()"
   ]
  }
 ],
 "metadata": {
  "kernelspec": {
   "display_name": "Python 3",
   "language": "python",
   "name": "python3"
  },
  "language_info": {
   "codemirror_mode": {
    "name": "ipython",
    "version": 3
   },
   "file_extension": ".py",
   "mimetype": "text/x-python",
   "name": "python",
   "nbconvert_exporter": "python",
   "pygments_lexer": "ipython3",
   "version": "3.6.5"
  }
 },
 "nbformat": 4,
 "nbformat_minor": 2
}
