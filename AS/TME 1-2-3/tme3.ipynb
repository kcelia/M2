{
 "cells": [
  {
   "cell_type": "code",
   "execution_count": 1,
   "metadata": {},
   "outputs": [],
   "source": [
    "import torch\n",
    "import torch as T\n",
    "import numpy as np\n",
    "import pandas as pd\n",
    "import matplotlib.pyplot as plt\n",
    "\n",
    "from tqdm import tqdm, trange\n",
    "from sklearn.model_selection import train_test_split\n"
   ]
  },
  {
   "cell_type": "code",
   "execution_count": 2,
   "metadata": {},
   "outputs": [],
   "source": [
    "x = T.FloatTensor([[1, 2, 3], [1, 4, 6]])\n",
    "b = T.FloatTensor([1])\n",
    "w = T.FloatTensor([[-1, 0, 1]]).t()\n",
    "delta = T.FloatTensor([[1] * 3,[1] * 3 ])\n",
    "y = T.FloatTensor([[1],[-1]])\n",
    "ypred = T.FloatTensor([[1],[1]])"
   ]
  },
  {
   "cell_type": "code",
   "execution_count": 3,
   "metadata": {},
   "outputs": [],
   "source": [
    "class Linear:\n",
    "    @staticmethod\n",
    "    def forward(x, w, b):\n",
    "        return x @ w + b\n",
    "\n",
    "    @staticmethod\n",
    "    def backward(x, w, b, delta):\n",
    "        b_grad = delta.mean(dim=0)\n",
    "        w_grad = (x.t() @ delta)#.mean(dim=0)\n",
    "        new_delta = delta @ w.t() #x_grad \n",
    "        return b_grad, w_grad, new_delta"
   ]
  },
  {
   "cell_type": "code",
   "execution_count": 4,
   "metadata": {},
   "outputs": [],
   "source": [
    "class MSE(object):\n",
    "    @staticmethod\n",
    "    def forward(y, ypred):\n",
    "        return ((y - ypred) ** 2).mean()\n",
    "\n",
    "    @staticmethod\n",
    "    def backward(delta, y, ypred):\n",
    "        return -2 * (y - ypred) * delta"
   ]
  },
  {
   "cell_type": "code",
   "execution_count": 5,
   "metadata": {},
   "outputs": [],
   "source": [
    "class Hinge(object):\n",
    "    @staticmethod\n",
    "    def forward(y, ypred):\n",
    "        return (((y * ypred) < 0).float() * (-y * ypred)).mean()\n",
    "\n",
    "    @staticmethod\n",
    "    def backward(delta, y, ypred):\n",
    "        return ((((y * ypred) < 0).float() * -y)*delta).mean(0)\n",
    "    #torch.FloatTensor(np.where(y * ypred > 0, 0, -y)) * delta"
   ]
  },
  {
   "cell_type": "code",
   "execution_count": 6,
   "metadata": {},
   "outputs": [
    {
     "name": "stderr",
     "output_type": "stream",
     "text": [
      "C:\\Users\\kherf\\Anaconda3\\lib\\site-packages\\ipykernel_launcher.py:4: FutureWarning: Method .as_matrix will be removed in a future version. Use .values instead.\n",
      "  after removing the cwd from sys.path.\n",
      "C:\\Users\\kherf\\Anaconda3\\lib\\site-packages\\ipykernel_launcher.py:5: FutureWarning: Method .as_matrix will be removed in a future version. Use .values instead.\n",
      "  \"\"\"\n",
      "C:\\Users\\kherf\\Anaconda3\\lib\\site-packages\\sklearn\\model_selection\\_split.py:2026: FutureWarning: From version 0.21, test_size will always complement train_size unless both are specified.\n",
      "  FutureWarning)\n",
      "100%|██████████| 200/200 [00:00<00:00, 3581.25it/s]\n",
      "No handles with labels found to put in legend.\n"
     ]
    },
    {
     "data": {
      "image/png": "[encoded data removed]",
      "text/plain": [
       "<Figure size 720x360 with 2 Axes>"
      ]
     },
     "metadata": {},
     "output_type": "display_data"
    }
   ],
   "source": [
    "torch.set_default_tensor_type('torch.FloatTensor')\n",
    "\n",
    "data = pd.read_csv(\"housing.data\", delimiter=\"\\\\s+\", header=None)\n",
    "x_data = data.as_matrix()[:, :-1]\n",
    "y_data = data.as_matrix()[:,  -1]\n",
    "\n",
    "\n",
    "x_train, x_test, y_train, y_test = train_test_split(x_data, y_data, train_size=.8)\n",
    "x_train, x_test = T.tensor(x_train).float(), T.tensor(x_test).float()\n",
    "y_train, y_test = T.tensor(y_train).float(), T.tensor(y_test).float()\n",
    "\n",
    "\n",
    "epsilon = 1e-7\n",
    "train_error, test_error = [], []\n",
    "\n",
    "\n",
    "w = T.rand((13, 1))\n",
    "b = T.FloatTensor([0])\n",
    "\n",
    "batch_size = 16\n",
    "nb_epochs  = 200\n",
    "for i in trange(nb_epochs):\n",
    "    #make a random batch\n",
    "    idx = [np.random.randint(0, x_train.shape[0]) for i in range(batch_size)]\n",
    "    x = x_train[idx].view(-1, 13)\n",
    "    y = y_train[idx].view(-1,  1)\n",
    "    #train\n",
    "    yhat = Linear.forward(x, w, b)\n",
    "    err = MSE.forward(y, yhat)\n",
    "    delta = MSE.backward(T.FloatTensor([1]), y, yhat) #meme taille de la sortie\n",
    "    b_grad, w_grad, delta = Linear.backward(x, w, b, delta) # get grad\n",
    "    #update params\n",
    "    w -= w_grad.view([1, -1]).t() * epsilon\n",
    "    b -= b_grad * epsilon\n",
    "    train_error.append(err)\n",
    "    #test\n",
    "    err = MSE.forward(y_test, Linear.forward(x_test, w, b))\n",
    "    test_error.append(err)\n",
    "\n",
    "\n",
    "plt.figure(figsize=(10, 5))\n",
    "plt.suptitle(\"MiniBatch MSE\")\n",
    "plt.subplot(1, 2, 1)\n",
    "plt.plot(np.arange(nb_epochs), train_error)\n",
    "plt.title(\"Train\")\n",
    "plt.subplot(1, 2, 2)\n",
    "plt.title(\"Test\")\n",
    "plt.plot(np.arange(nb_epochs), test_error)\n",
    "plt.legend()\n",
    "plt.show()\n",
    "\n",
    "\n",
    "\n"
   ]
  },
  {
   "cell_type": "code",
   "execution_count": 12,
   "metadata": {},
   "outputs": [],
   "source": [
    "#olivier, celia v1, marche bien\n",
    "class Hinge(object):\n",
    "    @staticmethod\n",
    "    def forward(y, ypred):\n",
    "        return (((y * ypred) < 1).float() * (-y * ypred)).mean()\n",
    "\n",
    "    @staticmethod\n",
    "    def backward(delta, y, ypred):\n",
    "        return ((((y * ypred) < 1).float() * -y)*delta)\n",
    "    #torch.FloatTensor(np.where(y * ypred > 0, 0, -y)) * delta"
   ]
  },
  {
   "cell_type": "code",
   "execution_count": 10,
   "metadata": {},
   "outputs": [],
   "source": [
    "#olivier, celia v0\n",
    "class Hinge():\n",
    "    @staticmethod\n",
    "    def forward(y, predict):\n",
    "        return T.max(T.zeros(y.shape), - y * predict).sum() / float(predict.size()[1]) #.mean(dim=0)\n",
    "\n",
    "    @staticmethod\n",
    "    def backward(delta, y, predict):\n",
    "        out = T.zeros((y.shape))\n",
    "        where_tmp = (y * predict) < 1. #1?\n",
    "        out[where_tmp] = -y[where_tmp]\n",
    "        return out"
   ]
  },
  {
   "cell_type": "code",
   "execution_count": 14,
   "metadata": {},
   "outputs": [],
   "source": [
    "#victor\n",
    "import torch.nn.functional as F\n",
    "class Hinge(object):\n",
    "    @staticmethod\n",
    "    def forward(y, ypred):\n",
    "        return torch.mean(F.relu(-y * ypred))\n",
    "\n",
    "    @staticmethod\n",
    "    def backward(delta, y, ypred):\n",
    "        return torch.FloatTensor(np.where(y * ypred > 0, 0, -y)) * delta"
   ]
  },
  {
   "cell_type": "code",
   "execution_count": null,
   "metadata": {},
   "outputs": [],
   "source": [
    "y = T.FloatTensor([[1,1, -1], [-1,1, -1]])\n",
    "p = T.FloatTensor([[1,1, -1], [1,1, -1]])\n",
    "delta"
   ]
  },
  {
   "cell_type": "code",
   "execution_count": null,
   "metadata": {},
   "outputs": [],
   "source": [
    "Hinge.forward(y, p)"
   ]
  },
  {
   "cell_type": "code",
   "execution_count": null,
   "metadata": {},
   "outputs": [],
   "source": [
    "Hinge.backward(delta, y, p)"
   ]
  },
  {
   "cell_type": "code",
   "execution_count": null,
   "metadata": {},
   "outputs": [],
   "source": [
    "class Hinge(Loss):\n",
    "    def get_loss_value(self, predict, y):\n",
    "        return T.max(T.zeros(y.shape), - y * predict).sum() / float(predict.size()[1]) #.mean(dim=0)\n",
    "\n",
    "    def backward(self, predict, y):out = T.zeros((y.shape))\n",
    "        where_tmp = (y * predict) < 0. #1?\n",
    "        out[where_tmp] = y[where_tmp]\n",
    "        return out"
   ]
  },
  {
   "cell_type": "code",
   "execution_count": 27,
   "metadata": {},
   "outputs": [
    {
     "name": "stderr",
     "output_type": "stream",
     "text": [
      "100%|██████████| 200/200 [00:01<00:00, 138.59it/s]\n",
      "No handles with labels found to put in legend.\n"
     ]
    },
    {
     "data": {
      "image/png": "[encoded data removed]",
      "text/plain": [
       "<Figure size 720x360 with 2 Axes>"
      ]
     },
     "metadata": {},
     "output_type": "display_data"
    }
   ],
   "source": [
    "import torch as T\n",
    "import numpy as np\n",
    "import matplotlib.pyplot as plt\n",
    "\n",
    "from tqdm import tqdm, trange\n",
    "from torchvision import datasets, transforms\n",
    "from sklearn.model_selection import train_test_split\n",
    "\n",
    "\n",
    "T.set_default_tensor_type('torch.FloatTensor')\n",
    "\n",
    "batch_size = 32\n",
    "nb_epochs  = 5000\n",
    "nb_digits  = 10\n",
    "\n",
    "train_loader = T.utils.data.DataLoader(datasets.MNIST(\n",
    "    './data', train=True, download=True,\n",
    "    transform=transforms.Compose([\n",
    "        transforms.ToTensor(), \n",
    "        transforms.Normalize((0.1307,), (0.3081,))\n",
    "    ])),\n",
    "    batch_size=batch_size, shuffle=True\n",
    ") \n",
    "test_loader = T.utils.data.DataLoader(datasets.MNIST(\n",
    "    './data', train=False, download=True,\n",
    "    transform=transforms.Compose([\n",
    "        transforms.ToTensor(),\n",
    "        transforms.Normalize((0.1307,), (0.3081,))\n",
    "    ])),\n",
    "    batch_size=batch_size, shuffle=True\n",
    ") \n",
    "\n",
    "x_train = train_loader.dataset.train_data.view(-1, 784).float()\n",
    "x_test  = test_loader.dataset.test_data.view(-1,   784).float()\n",
    "y_train = train_loader.dataset.train_labels.view(-1, 1).float()\n",
    "y_test  = test_loader.dataset.test_labels.view(-1,   1).float()\n",
    "\n",
    "def one_hot(y):\n",
    "    y_onehot = T.FloatTensor(len(y), 10) \n",
    "    y_onehot.zero_()\n",
    "    return y_onehot.scatter_(1, y.long().view(-1, 1), 1)\n",
    "\n",
    "y_train = one_hot(y_train)\n",
    "y_test  = one_hot(y_test)\n",
    "\n",
    "#because hinge require [-1, 1]\n",
    "y_train = y_train * 2 - 1\n",
    "y_test  = y_test  * 2 - 1\n",
    "\n",
    "\n",
    "epsilon = 1#1e-10\n",
    "train_error, test_error = [], []\n",
    "\n",
    "\n",
    "w = T.rand((784, 10))\n",
    "b = T.FloatTensor([0] * 10)\n",
    "\n",
    "batch_size = 64\n",
    "nb_epochs  = 200\n",
    "for i in trange(nb_epochs):\n",
    "    #make a random batch\n",
    "    idx = [np.random.randint(0, x_train.shape[0]) for i in range(batch_size)]\n",
    "    x = x_train[idx]\n",
    "    y = y_train[idx]\n",
    "    #train\n",
    "    yhat = Linear.forward(x, w, b)\n",
    "    yhat = yhat/ yhat.abs()\n",
    "    err = Hinge.forward(y, yhat)\n",
    "    delta = Hinge.backward(T.FloatTensor([1]), y, yhat) #meme taille de la sortie\n",
    "    b_grad, w_grad, delta = Linear.backward(x, w, b, delta) # get grad\n",
    "    #update params\n",
    "    w -= w_grad.view([784, 10]) * epsilon\n",
    "    b -= b_grad * epsilon\n",
    "    train_error.append(err)\n",
    "    #test\n",
    "    pred =  Linear.forward(x_test, w, b) \n",
    "    pred /= pred.abs()\n",
    "    err = Hinge.forward(y_test,pred)\n",
    "    test_error.append(err)\n",
    "\n",
    "\n",
    "plt.figure(figsize=(10, 5))\n",
    "plt.suptitle(\"MiniBatch Hinge\")\n",
    "plt.subplot(1, 2, 1)\n",
    "plt.plot(np.arange(nb_epochs), train_error)\n",
    "plt.title(\"Train\")\n",
    "plt.subplot(1, 2, 2)\n",
    "plt.title(\"Test\")\n",
    "plt.plot(np.arange(nb_epochs), test_error)\n",
    "plt.legend()\n",
    "plt.show()"
   ]
  },
  {
   "cell_type": "code",
   "execution_count": 25,
   "metadata": {},
   "outputs": [
    {
     "data": {
      "text/plain": [
       "tensor(0.9597)"
      ]
     },
     "execution_count": 25,
     "metadata": {},
     "output_type": "execute_result"
    }
   ],
   "source": [
    "(y_test == pred).float().mean()"
   ]
  },
  {
   "cell_type": "code",
   "execution_count": 26,
   "metadata": {},
   "outputs": [
    {
     "data": {
      "text/plain": [
       "tensor([[-1., -1., -1.,  ...,  1., -1., -1.],\n",
       "        [-1., -1.,  1.,  ..., -1., -1., -1.],\n",
       "        [-1.,  1., -1.,  ..., -1., -1., -1.],\n",
       "        ...,\n",
       "        [-1., -1., -1.,  ..., -1., -1., -1.],\n",
       "        [-1., -1., -1.,  ..., -1.,  1., -1.],\n",
       "        [-1., -1., -1.,  ..., -1., -1., -1.]])"
      ]
     },
     "execution_count": 26,
     "metadata": {},
     "output_type": "execute_result"
    }
   ],
   "source": [
    "pred"
   ]
  },
  {
   "cell_type": "code",
   "execution_count": 23,
   "metadata": {},
   "outputs": [
    {
     "data": {
      "text/plain": [
       "tensor(1.00000e-02 *\n",
       "       3.5560)"
      ]
     },
     "execution_count": 23,
     "metadata": {},
     "output_type": "execute_result"
    }
   ],
   "source": [
    "Hinge.forward(y_test,pred)"
   ]
  },
  {
   "cell_type": "code",
   "execution_count": null,
   "metadata": {},
   "outputs": [],
   "source": []
  }
 ],
 "metadata": {
  "kernelspec": {
   "display_name": "Python 3",
   "language": "python",
   "name": "python3"
  },
  "language_info": {
   "codemirror_mode": {
    "name": "ipython",
    "version": 3
   },
   "file_extension": ".py",
   "mimetype": "text/x-python",
   "name": "python",
   "nbconvert_exporter": "python",
   "pygments_lexer": "ipython3",
   "version": "3.6.5"
  }
 },
 "nbformat": 4,
 "nbformat_minor": 2
}
